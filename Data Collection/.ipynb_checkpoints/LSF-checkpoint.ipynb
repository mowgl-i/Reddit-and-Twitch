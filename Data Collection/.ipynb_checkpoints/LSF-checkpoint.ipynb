{
 "cells": [
  {
   "cell_type": "code",
   "execution_count": 32,
   "metadata": {},
   "outputs": [],
   "source": [
    "#!pip install praw\n",
    "#!pip install json\n",
    "import praw\n",
    "import json\n",
    "import pandas as pd\n",
    "import datetime as dt\n",
    "client_id = \"******\"\n",
    "client_secret = \"*******\"\n",
    "user_agent = \"******\"\n",
    "username = \"******\"\n",
    "password = \"*****\""
   ]
  },
  {
   "cell_type": "code",
   "execution_count": 2,
   "metadata": {},
   "outputs": [],
   "source": [
    "reddit = praw.Reddit(client_id = client_id,\n",
    "                    client_secret = client_secret,\n",
    "                    username= username,\n",
    "                    password= password,\n",
    "                    user_agent= user_agent)"
   ]
  },
  {
   "cell_type": "code",
   "execution_count": 3,
   "metadata": {},
   "outputs": [],
   "source": [
    "LSF = reddit.subreddit('LivestreamFail')\n"
   ]
  },
  {
   "cell_type": "code",
   "execution_count": 51,
   "metadata": {},
   "outputs": [],
   "source": [
    "newt = LSF.new(limit = 1000)\n"
   ]
  },
  {
   "cell_type": "code",
   "execution_count": 37,
   "metadata": {},
   "outputs": [],
   "source": [
    "for i in newt:\n",
    "    print(i.title,i.url,i.created_utc, i.score, i.author,i.domain,i.url)"
   ]
  },
  {
   "cell_type": "code",
   "execution_count": 52,
   "metadata": {},
   "outputs": [],
   "source": [
    "df_rows = [[post.title,post.score, dt.datetime.utcfromtimestamp(post.created_utc), post.author,post.domain,post.url] for post in newt]\n",
    "df = pd.DataFrame(df_rows, columns=['Post Title', 'Post Score', 'Created UTC', 'Post Author',\"domain\",\"url\"])\n"
   ]
  },
  {
   "cell_type": "code",
   "execution_count": 54,
   "metadata": {},
   "outputs": [],
   "source": [
    "# uncomment to write and save to .csv\n",
    "#df.to_csv(\"October_clips_thr_20th.csv\")"
   ]
  }
 ],
 "metadata": {
  "kernelspec": {
   "display_name": "Python 3",
   "language": "python",
   "name": "python3"
  },
  "language_info": {
   "codemirror_mode": {
    "name": "ipython",
    "version": 3
   },
   "file_extension": ".py",
   "mimetype": "text/x-python",
   "name": "python",
   "nbconvert_exporter": "python",
   "pygments_lexer": "ipython3",
   "version": "3.7.3"
  }
 },
 "nbformat": 4,
 "nbformat_minor": 2
}
