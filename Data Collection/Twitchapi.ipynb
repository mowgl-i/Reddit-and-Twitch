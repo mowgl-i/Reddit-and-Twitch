{
 "cells": [
  {
   "cell_type": "code",
   "execution_count": 1,
   "metadata": {},
   "outputs": [
    {
     "name": "stdout",
     "output_type": "stream",
     "text": [
      "Collecting python_twitch_client\n",
      "  Downloading https://files.pythonhosted.org/packages/47/8f/9a03f73c9bc73b0021700507e62ca3bfe11f48d52411fa65ba6f8ff3cbd4/python_twitch_client-0.6.0-py3-none-any.whl\n",
      "Requirement already satisfied: six>=1.11.0 in c:\\users\\macia\\anaconda3\\lib\\site-packages (from python_twitch_client) (1.12.0)\n",
      "Requirement already satisfied: requests>=2.18.4 in c:\\users\\macia\\anaconda3\\lib\\site-packages (from python_twitch_client) (2.22.0)\n",
      "Requirement already satisfied: chardet<3.1.0,>=3.0.2 in c:\\users\\macia\\anaconda3\\lib\\site-packages (from requests>=2.18.4->python_twitch_client) (3.0.4)\n",
      "Requirement already satisfied: urllib3!=1.25.0,!=1.25.1,<1.26,>=1.21.1 in c:\\users\\macia\\anaconda3\\lib\\site-packages (from requests>=2.18.4->python_twitch_client) (1.24.2)\n",
      "Requirement already satisfied: idna<2.9,>=2.5 in c:\\users\\macia\\anaconda3\\lib\\site-packages (from requests>=2.18.4->python_twitch_client) (2.8)\n",
      "Requirement already satisfied: certifi>=2017.4.17 in c:\\users\\macia\\anaconda3\\lib\\site-packages (from requests>=2.18.4->python_twitch_client) (2019.6.16)\n",
      "Installing collected packages: python-twitch-client\n",
      "Successfully installed python-twitch-client-0.6.0\n"
     ]
    }
   ],
   "source": [
    "!pip install python_twitch_client"
   ]
  },
  {
   "cell_type": "code",
   "execution_count": 10,
   "metadata": {},
   "outputs": [],
   "source": [
    "from twitch import TwitchClient"
   ]
  },
  {
   "cell_type": "code",
   "execution_count": 12,
   "metadata": {},
   "outputs": [],
   "source": [
    "client = TwitchClient(client_id='vof18oof360nvyvx4qqzjpvb6d90pc', oauth_token='glyri8y3d33ngygoh0wploavgiixay')\n"
   ]
  },
  {
   "cell_type": "code",
   "execution_count": null,
   "metadata": {},
   "outputs": [],
   "source": [
    "https://www.twitch.tv/pokelawls/clip/ShakingBoxyKumquatPhilosoraptor?filter=clips&range=7d&sort=time"
   ]
  },
  {
   "cell_type": "code",
   "execution_count": 15,
   "metadata": {},
   "outputs": [
    {
     "ename": "NameError",
     "evalue": "name 'get_by_slug' is not defined",
     "output_type": "error",
     "traceback": [
      "\u001b[1;31m---------------------------------------------------------------------------\u001b[0m",
      "\u001b[1;31mNameError\u001b[0m                                 Traceback (most recent call last)",
      "\u001b[1;32m<ipython-input-15-bf2e513fda96>\u001b[0m in \u001b[0;36m<module>\u001b[1;34m\u001b[0m\n\u001b[1;32m----> 1\u001b[1;33m \u001b[0mget_by_slug\u001b[0m\u001b[1;33m(\u001b[0m\u001b[1;34m\"ShakingBoxyKumquatPhilosoraptor\"\u001b[0m\u001b[1;33m)\u001b[0m\u001b[1;33m\u001b[0m\u001b[1;33m\u001b[0m\u001b[0m\n\u001b[0m",
      "\u001b[1;31mNameError\u001b[0m: name 'get_by_slug' is not defined"
     ]
    }
   ],
   "source": [
    "get_by_slug(\"ShakingBoxyKumquatPhilosoraptor\")"
   ]
  },
  {
   "cell_type": "code",
   "execution_count": 19,
   "metadata": {},
   "outputs": [
    {
     "name": "stderr",
     "output_type": "stream",
     "text": [
      "fatal: destination path 'twitch-clip-chat' already exists and is not an empty directory.\n"
     ]
    },
    {
     "name": "stdout",
     "output_type": "stream",
     "text": [
      "Requirement already satisfied: requests in c:\\users\\macia\\anaconda3\\lib\\site-packages (2.22.0)\n",
      "Requirement already satisfied: urllib3!=1.25.0,!=1.25.1,<1.26,>=1.21.1 in c:\\users\\macia\\anaconda3\\lib\\site-packages (from requests) (1.24.2)\n",
      "Requirement already satisfied: certifi>=2017.4.17 in c:\\users\\macia\\anaconda3\\lib\\site-packages (from requests) (2019.6.16)\n",
      "Requirement already satisfied: chardet<3.1.0,>=3.0.2 in c:\\users\\macia\\anaconda3\\lib\\site-packages (from requests) (3.0.4)\n",
      "Requirement already satisfied: idna<2.9,>=2.5 in c:\\users\\macia\\anaconda3\\lib\\site-packages (from requests) (2.8)\n"
     ]
    }
   ],
   "source": [
    "!git clone https://github.com/OgulcanCelik/twitch-clip-chat.git\n",
    "!pip install requests"
   ]
  },
  {
   "cell_type": "code",
   "execution_count": 22,
   "metadata": {},
   "outputs": [
    {
     "name": "stdout",
     "output_type": "stream",
     "text": [
      "C:\\Users\\macia\\Documents\\MSIA-19\\Git\\Reddit-and-Twitch\\Data Collection\\twitch-clip-chat\n"
     ]
    }
   ],
   "source": [
    "%cd \"C:/Users/macia/Documents/MSIA-19/Git/Reddit-and-Twitch/Data Collection/twitch-clip-chat\""
   ]
  },
  {
   "cell_type": "code",
   "execution_count": 23,
   "metadata": {},
   "outputs": [
    {
     "name": "stdout",
     "output_type": "stream",
     "text": [
      "requesting metadata\n",
      "\n",
      "done\n"
     ]
    },
    {
     "name": "stderr",
     "output_type": "stream",
     "text": [
      "got an error in vod info response: {'error': 'Gone', 'status': 410, 'message': \"It's time to kick ass and serve v3... and I'm all outta v3. See https://dev.twitch.tv/docs\"}\n"
     ]
    }
   ],
   "source": [
    "!python getclip.py -s ShakingBoxyKumquatPhilosoraptor -i vof18oof360nvyvx4qqzjpvb6d90pc -f json\n"
   ]
  }
 ],
 "metadata": {
  "kernelspec": {
   "display_name": "Python 3",
   "language": "python",
   "name": "python3"
  },
  "language_info": {
   "codemirror_mode": {
    "name": "ipython",
    "version": 3
   },
   "file_extension": ".py",
   "mimetype": "text/x-python",
   "name": "python",
   "nbconvert_exporter": "python",
   "pygments_lexer": "ipython3",
   "version": "3.7.3"
  }
 },
 "nbformat": 4,
 "nbformat_minor": 2
}
